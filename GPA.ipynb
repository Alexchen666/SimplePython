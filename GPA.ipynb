{
 "cells": [
  {
   "cell_type": "code",
   "execution_count": 1,
   "metadata": {},
   "outputs": [],
   "source": [
    "import numpy as np\n",
    "import matplotlib.pyplot as plt\n",
    "import pandas as pd\n",
    "%matplotlib inline"
   ]
  },
  {
   "cell_type": "code",
   "execution_count": 15,
   "metadata": {},
   "outputs": [
    {
     "name": "stdout",
     "output_type": "stream",
     "text": [
      "Enter your course: A\n",
      "Enter the credit: 3\n",
      "Enter your score(GPA): 4.3\n",
      "If you want to enter next course, enter any key, if you want to start to calculate, then enter \"q\": \n",
      "Enter your course: B\n",
      "Enter the credit: 3\n",
      "Enter your score(GPA): 4.0\n",
      "If you want to enter next course, enter any key, if you want to start to calculate, then enter \"q\": \n",
      "Enter your course: C\n",
      "Enter the credit: 3\n",
      "Enter your score(GPA): 3.7\n",
      "If you want to enter next course, enter any key, if you want to start to calculate, then enter \"q\": q\n",
      "\n",
      "\n",
      "  Course  Credit  Score\n",
      "0      A     3.0    4.3\n",
      "1      B     3.0    4.0\n",
      "2      C     3.0    3.7\n",
      "Your GPA is  4.0\n"
     ]
    }
   ],
   "source": [
    "a = 'a'\n",
    "course = []\n",
    "credit = []\n",
    "score = []\n",
    "gpa = []\n",
    "\n",
    "while a != 'q':\n",
    "    a1 = input('Enter your course: ')\n",
    "    a2 = float(input('Enter the credit: '))\n",
    "    a3 = float(input('Enter your score(GPA): '))\n",
    "    course.append(a1)\n",
    "    credit.append(a2)\n",
    "    score.append(a3)\n",
    "    a = input('If you want to enter next course, enter any key, if you want to start to calculate, then enter \"q\": ')\n",
    "\n",
    "credit = np.array(credit)\n",
    "score = np.array(score)\n",
    "\n",
    "aa = credit * score\n",
    "\n",
    "dd = {'Course': course,\n",
    "     'Credit': credit,\n",
    "     'Score': score}\n",
    "\n",
    "print('\\n')\n",
    "print(pd.DataFrame(dd))\n",
    "print('Your GPA is ', sum(aa)/sum(credit))"
   ]
  },
  {
   "cell_type": "code",
   "execution_count": null,
   "metadata": {},
   "outputs": [],
   "source": []
  }
 ],
 "metadata": {
  "kernelspec": {
   "display_name": "Python 3",
   "language": "python",
   "name": "python3"
  },
  "language_info": {
   "codemirror_mode": {
    "name": "ipython",
    "version": 3
   },
   "file_extension": ".py",
   "mimetype": "text/x-python",
   "name": "python",
   "nbconvert_exporter": "python",
   "pygments_lexer": "ipython3",
   "version": "3.7.6"
  }
 },
 "nbformat": 4,
 "nbformat_minor": 4
}
