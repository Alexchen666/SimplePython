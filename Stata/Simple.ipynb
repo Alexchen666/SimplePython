{
 "cells": [
  {
   "cell_type": "code",
   "execution_count": 19,
   "metadata": {},
   "outputs": [],
   "source": [
    "import matplotlib.pyplot as plt\n",
    "import pandas as pd\n",
    "import numpy as np\n",
    "import statsmodels as sm"
   ]
  },
  {
   "cell_type": "code",
   "execution_count": 34,
   "metadata": {},
   "outputs": [],
   "source": [
    "eg1 = pd.read_csv('eg1.csv')"
   ]
  },
  {
   "cell_type": "code",
   "execution_count": 35,
   "metadata": {},
   "outputs": [],
   "source": [
    "interest = pd.read_csv('interest.csv')"
   ]
  },
  {
   "cell_type": "code",
   "execution_count": 36,
   "metadata": {},
   "outputs": [],
   "source": [
    "df = pd.merge(eg1, interest, on = 'id')"
   ]
  },
  {
   "cell_type": "code",
   "execution_count": 10,
   "metadata": {},
   "outputs": [],
   "source": [
    "?pd.merge"
   ]
  },
  {
   "cell_type": "code",
   "execution_count": 37,
   "metadata": {},
   "outputs": [],
   "source": [
    "df['bmi'] = df['weight']/(df['height']/100)**2"
   ]
  },
  {
   "cell_type": "code",
   "execution_count": 38,
   "metadata": {},
   "outputs": [],
   "source": [
    "df['bmi2'] = df.weight/(df.height/100)**2"
   ]
  },
  {
   "cell_type": "code",
   "execution_count": 44,
   "metadata": {},
   "outputs": [
    {
     "data": {
      "text/html": [
       "<div>\n",
       "<style scoped>\n",
       "    .dataframe tbody tr th:only-of-type {\n",
       "        vertical-align: middle;\n",
       "    }\n",
       "\n",
       "    .dataframe tbody tr th {\n",
       "        vertical-align: top;\n",
       "    }\n",
       "\n",
       "    .dataframe thead th {\n",
       "        text-align: right;\n",
       "    }\n",
       "</style>\n",
       "<table border=\"1\" class=\"dataframe\">\n",
       "  <thead>\n",
       "    <tr style=\"text-align: right;\">\n",
       "      <th></th>\n",
       "      <th>id</th>\n",
       "      <th>height</th>\n",
       "      <th>weight</th>\n",
       "      <th>interest</th>\n",
       "      <th>bmi</th>\n",
       "      <th>bmi2</th>\n",
       "    </tr>\n",
       "  </thead>\n",
       "  <tbody>\n",
       "    <tr>\n",
       "      <th>3</th>\n",
       "      <td>4</td>\n",
       "      <td>151</td>\n",
       "      <td>51</td>\n",
       "      <td>sing</td>\n",
       "      <td>22.367440</td>\n",
       "      <td>22.367440</td>\n",
       "    </tr>\n",
       "    <tr>\n",
       "      <th>4</th>\n",
       "      <td>5</td>\n",
       "      <td>165</td>\n",
       "      <td>54</td>\n",
       "      <td>dance</td>\n",
       "      <td>19.834711</td>\n",
       "      <td>19.834711</td>\n",
       "    </tr>\n",
       "    <tr>\n",
       "      <th>5</th>\n",
       "      <td>6</td>\n",
       "      <td>175</td>\n",
       "      <td>69</td>\n",
       "      <td>sing</td>\n",
       "      <td>22.530612</td>\n",
       "      <td>22.530612</td>\n",
       "    </tr>\n",
       "    <tr>\n",
       "      <th>7</th>\n",
       "      <td>8</td>\n",
       "      <td>186</td>\n",
       "      <td>66</td>\n",
       "      <td>dance</td>\n",
       "      <td>19.077350</td>\n",
       "      <td>19.077350</td>\n",
       "    </tr>\n",
       "    <tr>\n",
       "      <th>8</th>\n",
       "      <td>9</td>\n",
       "      <td>187</td>\n",
       "      <td>68</td>\n",
       "      <td>sport</td>\n",
       "      <td>19.445795</td>\n",
       "      <td>19.445795</td>\n",
       "    </tr>\n",
       "  </tbody>\n",
       "</table>\n",
       "</div>"
      ],
      "text/plain": [
       "   id  height  weight interest        bmi       bmi2\n",
       "3   4     151      51     sing  22.367440  22.367440\n",
       "4   5     165      54    dance  19.834711  19.834711\n",
       "5   6     175      69     sing  22.530612  22.530612\n",
       "7   8     186      66    dance  19.077350  19.077350\n",
       "8   9     187      68    sport  19.445795  19.445795"
      ]
     },
     "execution_count": 44,
     "metadata": {},
     "output_type": "execute_result"
    }
   ],
   "source": [
    "df.head()"
   ]
  },
  {
   "cell_type": "code",
   "execution_count": 32,
   "metadata": {},
   "outputs": [],
   "source": [
    "df = df[(df.bmi >= 18.5)&(df.bmi < 24)]"
   ]
  },
  {
   "cell_type": "code",
   "execution_count": 43,
   "metadata": {},
   "outputs": [],
   "source": [
    "df = df[(df['bmi']>18.5)&(df.bmi < 24)]"
   ]
  },
  {
   "cell_type": "code",
   "execution_count": 58,
   "metadata": {
    "scrolled": true
   },
   "outputs": [],
   "source": [
    "df.reset_index(drop = True, inplace = True)"
   ]
  },
  {
   "cell_type": "code",
   "execution_count": 59,
   "metadata": {},
   "outputs": [
    {
     "data": {
      "text/html": [
       "<div>\n",
       "<style scoped>\n",
       "    .dataframe tbody tr th:only-of-type {\n",
       "        vertical-align: middle;\n",
       "    }\n",
       "\n",
       "    .dataframe tbody tr th {\n",
       "        vertical-align: top;\n",
       "    }\n",
       "\n",
       "    .dataframe thead th {\n",
       "        text-align: right;\n",
       "    }\n",
       "</style>\n",
       "<table border=\"1\" class=\"dataframe\">\n",
       "  <thead>\n",
       "    <tr style=\"text-align: right;\">\n",
       "      <th></th>\n",
       "      <th>id</th>\n",
       "      <th>height</th>\n",
       "      <th>weight</th>\n",
       "      <th>interest</th>\n",
       "      <th>bmi</th>\n",
       "      <th>bmi2</th>\n",
       "    </tr>\n",
       "  </thead>\n",
       "  <tbody>\n",
       "    <tr>\n",
       "      <th>0</th>\n",
       "      <td>4</td>\n",
       "      <td>151</td>\n",
       "      <td>51</td>\n",
       "      <td>sing</td>\n",
       "      <td>22.367440</td>\n",
       "      <td>22.367440</td>\n",
       "    </tr>\n",
       "    <tr>\n",
       "      <th>1</th>\n",
       "      <td>5</td>\n",
       "      <td>165</td>\n",
       "      <td>54</td>\n",
       "      <td>dance</td>\n",
       "      <td>19.834711</td>\n",
       "      <td>19.834711</td>\n",
       "    </tr>\n",
       "    <tr>\n",
       "      <th>2</th>\n",
       "      <td>6</td>\n",
       "      <td>175</td>\n",
       "      <td>69</td>\n",
       "      <td>sing</td>\n",
       "      <td>22.530612</td>\n",
       "      <td>22.530612</td>\n",
       "    </tr>\n",
       "    <tr>\n",
       "      <th>3</th>\n",
       "      <td>8</td>\n",
       "      <td>186</td>\n",
       "      <td>66</td>\n",
       "      <td>dance</td>\n",
       "      <td>19.077350</td>\n",
       "      <td>19.077350</td>\n",
       "    </tr>\n",
       "    <tr>\n",
       "      <th>4</th>\n",
       "      <td>9</td>\n",
       "      <td>187</td>\n",
       "      <td>68</td>\n",
       "      <td>sport</td>\n",
       "      <td>19.445795</td>\n",
       "      <td>19.445795</td>\n",
       "    </tr>\n",
       "    <tr>\n",
       "      <th>5</th>\n",
       "      <td>10</td>\n",
       "      <td>173</td>\n",
       "      <td>65</td>\n",
       "      <td>sport</td>\n",
       "      <td>21.718066</td>\n",
       "      <td>21.718066</td>\n",
       "    </tr>\n",
       "    <tr>\n",
       "      <th>6</th>\n",
       "      <td>11</td>\n",
       "      <td>180</td>\n",
       "      <td>63</td>\n",
       "      <td>sport</td>\n",
       "      <td>19.444444</td>\n",
       "      <td>19.444444</td>\n",
       "    </tr>\n",
       "    <tr>\n",
       "      <th>7</th>\n",
       "      <td>13</td>\n",
       "      <td>172</td>\n",
       "      <td>66</td>\n",
       "      <td>dance</td>\n",
       "      <td>22.309356</td>\n",
       "      <td>22.309356</td>\n",
       "    </tr>\n",
       "    <tr>\n",
       "      <th>8</th>\n",
       "      <td>14</td>\n",
       "      <td>165</td>\n",
       "      <td>58</td>\n",
       "      <td>dance</td>\n",
       "      <td>21.303949</td>\n",
       "      <td>21.303949</td>\n",
       "    </tr>\n",
       "    <tr>\n",
       "      <th>9</th>\n",
       "      <td>15</td>\n",
       "      <td>179</td>\n",
       "      <td>69</td>\n",
       "      <td>sing</td>\n",
       "      <td>21.534908</td>\n",
       "      <td>21.534908</td>\n",
       "    </tr>\n",
       "    <tr>\n",
       "      <th>10</th>\n",
       "      <td>16</td>\n",
       "      <td>153</td>\n",
       "      <td>54</td>\n",
       "      <td>sing</td>\n",
       "      <td>23.068051</td>\n",
       "      <td>23.068051</td>\n",
       "    </tr>\n",
       "    <tr>\n",
       "      <th>11</th>\n",
       "      <td>17</td>\n",
       "      <td>155</td>\n",
       "      <td>52</td>\n",
       "      <td>sport</td>\n",
       "      <td>21.644121</td>\n",
       "      <td>21.644121</td>\n",
       "    </tr>\n",
       "  </tbody>\n",
       "</table>\n",
       "</div>"
      ],
      "text/plain": [
       "    id  height  weight interest        bmi       bmi2\n",
       "0    4     151      51     sing  22.367440  22.367440\n",
       "1    5     165      54    dance  19.834711  19.834711\n",
       "2    6     175      69     sing  22.530612  22.530612\n",
       "3    8     186      66    dance  19.077350  19.077350\n",
       "4    9     187      68    sport  19.445795  19.445795\n",
       "5   10     173      65    sport  21.718066  21.718066\n",
       "6   11     180      63    sport  19.444444  19.444444\n",
       "7   13     172      66    dance  22.309356  22.309356\n",
       "8   14     165      58    dance  21.303949  21.303949\n",
       "9   15     179      69     sing  21.534908  21.534908\n",
       "10  16     153      54     sing  23.068051  23.068051\n",
       "11  17     155      52    sport  21.644121  21.644121"
      ]
     },
     "execution_count": 59,
     "metadata": {},
     "output_type": "execute_result"
    }
   ],
   "source": [
    "df"
   ]
  },
  {
   "cell_type": "code",
   "execution_count": 72,
   "metadata": {},
   "outputs": [],
   "source": [
    "X = df['height']"
   ]
  },
  {
   "cell_type": "code",
   "execution_count": 75,
   "metadata": {},
   "outputs": [],
   "source": [
    "X = sm.tools.add_constant(X)"
   ]
  },
  {
   "cell_type": "code",
   "execution_count": 76,
   "metadata": {},
   "outputs": [],
   "source": [
    "model = sm.regression.linear_model.OLS(df.weight, X)"
   ]
  },
  {
   "cell_type": "code",
   "execution_count": 77,
   "metadata": {},
   "outputs": [],
   "source": [
    "result = model.fit()"
   ]
  },
  {
   "cell_type": "code",
   "execution_count": 78,
   "metadata": {},
   "outputs": [
    {
     "name": "stdout",
     "output_type": "stream",
     "text": [
      "                            OLS Regression Results                            \n",
      "==============================================================================\n",
      "Dep. Variable:                 weight   R-squared:                       0.795\n",
      "Model:                            OLS   Adj. R-squared:                  0.774\n",
      "Method:                 Least Squares   F-statistic:                     38.69\n",
      "Date:                Thu, 09 Jul 2020   Prob (F-statistic):           9.88e-05\n",
      "Time:                        15:44:59   Log-Likelihood:                -30.306\n",
      "No. Observations:                  12   AIC:                             64.61\n",
      "Df Residuals:                      10   BIC:                             65.58\n",
      "Df Model:                           1                                         \n",
      "Covariance Type:            nonrobust                                         \n",
      "==============================================================================\n",
      "                 coef    std err          t      P>|t|      [0.025      0.975]\n",
      "------------------------------------------------------------------------------\n",
      "const        -24.0225     13.743     -1.748      0.111     -54.643       6.598\n",
      "height         0.5014      0.081      6.220      0.000       0.322       0.681\n",
      "==============================================================================\n",
      "Omnibus:                        1.145   Durbin-Watson:                   3.055\n",
      "Prob(Omnibus):                  0.564   Jarque-Bera (JB):                0.751\n",
      "Skew:                           0.210   Prob(JB):                        0.687\n",
      "Kurtosis:                       1.849   Cond. No.                     2.45e+03\n",
      "==============================================================================\n",
      "\n",
      "Warnings:\n",
      "[1] Standard Errors assume that the covariance matrix of the errors is correctly specified.\n",
      "[2] The condition number is large, 2.45e+03. This might indicate that there are\n",
      "strong multicollinearity or other numerical problems.\n"
     ]
    },
    {
     "name": "stderr",
     "output_type": "stream",
     "text": [
      "d:\\miniconda\\lib\\site-packages\\scipy\\stats\\stats.py:1535: UserWarning: kurtosistest only valid for n>=20 ... continuing anyway, n=12\n",
      "  KurtosistestResult = namedtuple('KurtosistestResult', ('statistic', 'pvalue'))\n"
     ]
    }
   ],
   "source": [
    "print(result.summary())"
   ]
  },
  {
   "cell_type": "code",
   "execution_count": null,
   "metadata": {},
   "outputs": [],
   "source": []
  }
 ],
 "metadata": {
  "kernelspec": {
   "display_name": "Python 3",
   "language": "python",
   "name": "python3"
  },
  "language_info": {
   "codemirror_mode": {
    "name": "ipython",
    "version": 3
   },
   "file_extension": ".py",
   "mimetype": "text/x-python",
   "name": "python",
   "nbconvert_exporter": "python",
   "pygments_lexer": "ipython3",
   "version": "3.7.6"
  }
 },
 "nbformat": 4,
 "nbformat_minor": 4
}
